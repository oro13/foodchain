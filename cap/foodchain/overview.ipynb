{
 "cells": [
  {
   "cell_type": "markdown",
   "metadata": {},
   "source": [
    "    possible causes of food shortages:\n",
    "\n",
    "- countries limiting exports, creating national reserves rather than trading ('food protectionism')\n",
    "- limited migrant workforce available for harvesting\n",
    "- surge of retail demand, supply being traditionally shared among groceries, restuarants, cafeterias, etc are all\n",
    "- prices for meat and perishable items spiking\n",
    "- restrictions on food transportation due to virus recommended limits on travel (food supply logistics)\n",
    "- labor intensive products could be more scarce (palm oil, meat butchery)\n",
    "\n",
    "- countries more dependent on imports most vulnerable to price inflation, as well as countries with weak currencies (viz USD)\n",
    "\n",
    "https://www.cnbc.com/2020/03/30/coronavirus-food-crisis-looms-as-farms-idle-countries-hoard-supplies.html\n",
    "\n",
    "- rise in restaurant delivery\n",
    "https://finance.yahoo.com/news/coronavirus-food-delivery-is-300-times-more-popular-vs-a-month-ago-according-to-yelp-data-182100853.html "
   ]
  },
  {
   "cell_type": "code",
   "execution_count": null,
   "metadata": {},
   "outputs": [],
   "source": []
  }
 ],
 "metadata": {
  "kernelspec": {
   "display_name": "Python 3",
   "language": "python",
   "name": "python3"
  },
  "language_info": {
   "codemirror_mode": {
    "name": "ipython",
    "version": 3
   },
   "file_extension": ".py",
   "mimetype": "text/x-python",
   "name": "python",
   "nbconvert_exporter": "python",
   "pygments_lexer": "ipython3",
   "version": "3.7.6"
  }
 },
 "nbformat": 4,
 "nbformat_minor": 4
}
