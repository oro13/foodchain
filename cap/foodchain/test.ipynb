{
 "cells": [
  {
   "cell_type": "code",
   "execution_count": 13,
   "metadata": {},
   "outputs": [],
   "source": [
    "import pandas as pd\n",
    "import numpy as np\n",
    "import matplotlib.pyplot as plt\n",
    "import plotly.express as px\n",
    "from src.dw import *\n",
    "plt.style.use('Solarize_Light2')\n"
   ]
  },
  {
   "cell_type": "code",
   "execution_count": 10,
   "metadata": {},
   "outputs": [],
   "source": [
    "%load_ext autoreload\n",
    "%autoreload 2"
   ]
  },
  {
   "cell_type": "code",
   "execution_count": null,
   "metadata": {},
   "outputs": [],
   "source": [
    "# ws_ls = pd.read_csv('data/watershed_lower_sac_total_crop_harvest.csv')\n",
    "# ws_sj = pd.read_csv('data/watershed_san_joaquin_total_crop_harvest.csv')\n",
    "# ws_t = pd.read_csv('data/watershed_tulare_total_crop_harvest.csv')\n"
   ]
  },
  {
   "cell_type": "code",
   "execution_count": null,
   "metadata": {},
   "outputs": [],
   "source": [
    "# data from https://www.drought.gov/drought/states/washington\n",
    "wa_drought = pd.read_csv('data/wa_drought.csv', index_col='Date')\n",
    "wa_drought.info()"
   ]
  },
  {
   "cell_type": "code",
   "execution_count": null,
   "metadata": {},
   "outputs": [],
   "source": [
    "#wa_drought.pop('Unnamed: 0')\n",
    "wa_drought.head()"
   ]
  },
  {
   "cell_type": "code",
   "execution_count": null,
   "metadata": {},
   "outputs": [],
   "source": [
    "fig = (px.line(wa_drought, x=wa_drought.index, y=\"None\", \n",
    "               labels={'None' :'Percent of Land in D0-D4'}, title='Percent of WA with no Dryness',\n",
    "              range_x=['2013-07-01','2016-12-31'])\n",
    "\n",
    "      )\n",
    "fig.show()"
   ]
  },
  {
   "cell_type": "code",
   "execution_count": null,
   "metadata": {},
   "outputs": [],
   "source": [
    "fig = (px.line(wa_drought, x=wa_drought.index, y=\"D0\", \n",
    "               labels={'D0' :'Percent of Land in D0-D4'}, title='Percent of WA with any Dryness',\n",
    "              range_x=['2000-01-01','2016-12-31'])\n",
    "\n",
    "      )\n",
    "fig.show()"
   ]
  },
  {
   "cell_type": "code",
   "execution_count": null,
   "metadata": {},
   "outputs": [],
   "source": [
    "fig = (px.line(wa_drought, x=wa_drought.index, y=\"D1\", \n",
    "               labels={'D1' :'Percent of Land in D1-D4'}, title='Percent of WA with Drought of any severity',\n",
    "              range_x=['2000-01-01','2017-12-31'])\n",
    "\n",
    "      )\n",
    "fig.show()"
   ]
  },
  {
   "cell_type": "code",
   "execution_count": null,
   "metadata": {},
   "outputs": [],
   "source": [
    "#info from https://droughtmonitor.unl.edu/Data/DataDownload/ComprehensiveStatistics.aspx\n",
    "\n",
    "wa_county_d = pd.read_csv('data/drought_wa_county_cat_percent_total.csv')\n",
    "wa_county_d.head()"
   ]
  },
  {
   "cell_type": "code",
   "execution_count": null,
   "metadata": {},
   "outputs": [],
   "source": [
    "yakima_ws = pd.read_csv('data/watershed_yakima_total_crop_harvest.csv')\n",
    "yakima_ws.head()"
   ]
  },
  {
   "cell_type": "code",
   "execution_count": null,
   "metadata": {},
   "outputs": [],
   "source": [
    "fig = (px.line(yakima_ws, x='Year', y=\"Value\", \n",
    "               labels={'Value' :'Acres Harvested'}, title='Total Amount of Acres Harvested in Yakima County',\n",
    "              )\n",
    "\n",
    "      )\n",
    "fig.show()"
   ]
  },
  {
   "cell_type": "code",
   "execution_count": null,
   "metadata": {},
   "outputs": [],
   "source": [
    "grapes_df = pd.read_csv('data/grape_sales.csv')\n",
    "#cleaning grapes data\n",
    "# grapes_df = grapes_df.replace(np.NaN, 0)\n",
    "# grapes_df['Value'] = grapes_df['Value'].str.replace(',', '')\n",
    "# grapes_df['Value'] = grapes_df['Value'].str.replace('(', '')\n",
    "# grapes_df['Value'] = grapes_df['Value'].str.replace(')', '')\n",
    "# grapes_df['Value'] = grapes_df['Value'].str.replace('D', '')\n",
    "# grapes_df['Value'] = grapes_df['Value'].str.replace(' ', '')\n",
    "# grapes_df.loc[(grapes_df['Value'] == '')] = 0\n",
    "# grapes_df['Value'] = grapes_df['Value'].astype(int)\n",
    "# grapes_df.to_csv('data/grape_sales.csv')"
   ]
  },
  {
   "cell_type": "code",
   "execution_count": null,
   "metadata": {},
   "outputs": [],
   "source": [
    "#grapes_df['Value'] = grapes_df['Value'].str.replace(',', '')"
   ]
  },
  {
   "cell_type": "code",
   "execution_count": null,
   "metadata": {},
   "outputs": [],
   "source": [
    "grapes_df['Year'].unique()"
   ]
  },
  {
   "cell_type": "code",
   "execution_count": null,
   "metadata": {},
   "outputs": [],
   "source": [
    "grape_sales_year = grapes_df.groupby('Year')['Value'].sum()\n",
    "grape_sales_year = grape_sales_year[1:]"
   ]
  },
  {
   "cell_type": "code",
   "execution_count": null,
   "metadata": {},
   "outputs": [],
   "source": [
    "grape_sales_year.plot(figsize=(15,15), logy=False)"
   ]
  },
  {
   "cell_type": "code",
   "execution_count": null,
   "metadata": {},
   "outputs": [],
   "source": [
    "apples_harvest = pd.read_csv('data/apples_acres_harvest.csv')\n",
    "apples_harvest.head()"
   ]
  },
  {
   "cell_type": "code",
   "execution_count": null,
   "metadata": {},
   "outputs": [],
   "source": []
  },
  {
   "cell_type": "code",
   "execution_count": null,
   "metadata": {},
   "outputs": [],
   "source": []
  },
  {
   "cell_type": "code",
   "execution_count": null,
   "metadata": {},
   "outputs": [],
   "source": [
    "#apples_harvest = clean_val_col(apples_harvest)\n",
    "\n",
    "apples_harvest['Value'].unique()"
   ]
  },
  {
   "cell_type": "code",
   "execution_count": null,
   "metadata": {},
   "outputs": [],
   "source": [
    "#apples_harvest.to_csv('data/apples_acres_harvest.csv')"
   ]
  },
  {
   "cell_type": "code",
   "execution_count": null,
   "metadata": {},
   "outputs": [],
   "source": [
    "# apples_harvest = grapes_df.replace(np.NaN, 0)\n",
    "# apples_harvest['Value'] = grapes_df['Value'].str.replace(',', '')\n",
    "# apples_harvest['Value'] = grapes_df['Value'].str.replace('(', '')\n",
    "# apples_harvest['Value'] = grapes_df['Value'].str.replace(')', '')\n",
    "# apples_harvest['Value'] = grapes_df['Value'].str.replace('D', '')\n",
    "# apples_harvest['Value'] = grapes_df['Value'].str.replace(' ', '')\n",
    "# grapes_df.loc[(grapes_df['Value'] == '')] = 0\n",
    "# grapes_df['Value'] = grapes_df['Value'].astype(int)\n",
    "# grapes_df.to_csv('data/grape_sales.csv')"
   ]
  },
  {
   "cell_type": "code",
   "execution_count": null,
   "metadata": {},
   "outputs": [],
   "source": [
    "apples_harvest_year = apples_harvest.groupby('Year')['Value'].sum()\n",
    "#grape_sales_year = grape_sales_year[1:]\n",
    "apples_harvest_year = apples_harvest_year[1:]\n",
    "apples_harvest_year.plot(figsize=(15,15), logy=False)"
   ]
  },
  {
   "cell_type": "code",
   "execution_count": null,
   "metadata": {},
   "outputs": [],
   "source": [
    "potatoes_proc_or_wa = pd.read_csv('data/potatoes_processed_or_wa.csv')\n",
    "potatoes_proc_or_wa.head()"
   ]
  },
  {
   "cell_type": "code",
   "execution_count": null,
   "metadata": {},
   "outputs": [],
   "source": [
    "#potatoes_proc_or_wa = clean_val_col(potatoes_proc_or_wa)\n",
    "potatoes_proc_or_wa['Value'].unique()"
   ]
  },
  {
   "cell_type": "code",
   "execution_count": null,
   "metadata": {},
   "outputs": [],
   "source": [
    "potatoes_proc_or_wa['Value'].unique()\n"
   ]
  },
  {
   "cell_type": "code",
   "execution_count": null,
   "metadata": {},
   "outputs": [],
   "source": [
    "#potatoes_proc_or_wa.to_csv('data/potatoes_processed_or_wa.csv')\n",
    "potato_proc_year"
   ]
  },
  {
   "cell_type": "code",
   "execution_count": null,
   "metadata": {},
   "outputs": [],
   "source": [
    "potato_proc_year = potatoes_proc_or_wa.groupby('Year')['Value'].sum()\n",
    "potato_proc_year = potato_proc_year[1:]\n",
    "potato_proc_year.where(potato_proc_year.index != 2020).plot(figsize=(15,15), logy=False, title='Potatoes Processed in Or & Wa')"
   ]
  },
  {
   "cell_type": "code",
   "execution_count": 48,
   "metadata": {},
   "outputs": [],
   "source": [
    "#irrigated winter wheat\n",
    "wheat_irr_county = pd.read_csv('data/wheat_irr_county.csv')"
   ]
  },
  {
   "cell_type": "code",
   "execution_count": 50,
   "metadata": {},
   "outputs": [
    {
     "name": "stdout",
     "output_type": "stream",
     "text": [
      "<class 'pandas.core.frame.DataFrame'>\n",
      "RangeIndex: 503 entries, 0 to 502\n",
      "Data columns (total 22 columns):\n",
      " #   Column            Non-Null Count  Dtype  \n",
      "---  ------            --------------  -----  \n",
      " 0   Unnamed: 0        503 non-null    int64  \n",
      " 1   Program           503 non-null    object \n",
      " 2   Year              503 non-null    int64  \n",
      " 3   Period            503 non-null    object \n",
      " 4   Week Ending       503 non-null    float64\n",
      " 5   Geo Level         503 non-null    object \n",
      " 6   State             503 non-null    object \n",
      " 7   State ANSI        503 non-null    int64  \n",
      " 8   Ag District       503 non-null    object \n",
      " 9   Ag District Code  503 non-null    int64  \n",
      " 10  County            503 non-null    object \n",
      " 11  County ANSI       503 non-null    float64\n",
      " 12  Zip Code          503 non-null    float64\n",
      " 13  Region            503 non-null    float64\n",
      " 14  watershed_code    503 non-null    int64  \n",
      " 15  Watershed         503 non-null    float64\n",
      " 16  Commodity         503 non-null    object \n",
      " 17  Data Item         503 non-null    object \n",
      " 18  Domain            503 non-null    object \n",
      " 19  Domain Category   503 non-null    object \n",
      " 20  Value             503 non-null    int64  \n",
      " 21  CV (%)            503 non-null    float64\n",
      "dtypes: float64(6), int64(6), object(10)\n",
      "memory usage: 86.6+ KB\n"
     ]
    }
   ],
   "source": [
    "wheat_irr_county.info()"
   ]
  },
  {
   "cell_type": "code",
   "execution_count": null,
   "metadata": {},
   "outputs": [],
   "source": [
    "#wheat_irr_county_wa = wheat_irr_county.loc[(wheat_irr_county['State'] == 'WASHINGTON')]"
   ]
  },
  {
   "cell_type": "code",
   "execution_count": null,
   "metadata": {},
   "outputs": [],
   "source": [
    "#wheat_irr_county_wa = clean_val_col(wheat_irr_county_wa)\n",
    "\n",
    "#wheat_irr_county_wa.to_csv('data/wheat_irr_county.csv')"
   ]
  },
  {
   "cell_type": "code",
   "execution_count": null,
   "metadata": {},
   "outputs": [],
   "source": []
  },
  {
   "cell_type": "code",
   "execution_count": 51,
   "metadata": {},
   "outputs": [
    {
     "data": {
      "text/plain": [
       "Year\n",
       "1973    127500\n",
       "1974    236500\n",
       "1975    250600\n",
       "1976    307100\n",
       "1977    282700\n",
       "1978    273100\n",
       "1979    172560\n",
       "1980     77000\n",
       "1981    311000\n",
       "1982    305000\n",
       "1983    275000\n",
       "1984    315000\n",
       "1985    290000\n",
       "1986    235000\n",
       "1987    155000\n",
       "1988    142000\n",
       "1989    140000\n",
       "1990    260000\n",
       "1991    100000\n",
       "1992    237000\n",
       "1993    250000\n",
       "1994    233000\n",
       "1995    190000\n",
       "1996    161000\n",
       "1997    200000\n",
       "1998    200000\n",
       "1999    172000\n",
       "2000    159000\n",
       "2001    125000\n",
       "2002    159000\n",
       "2003    172800\n",
       "2004    160000\n",
       "2005    143500\n",
       "2006    137500\n",
       "2007    130150\n",
       "2008    154000\n",
       "Name: Value, dtype: int64"
      ]
     },
     "execution_count": 51,
     "metadata": {},
     "output_type": "execute_result"
    }
   ],
   "source": [
    "group_year_plot(wheat_irr_county)"
   ]
  },
  {
   "cell_type": "code",
   "execution_count": null,
   "metadata": {},
   "outputs": [],
   "source": []
  },
  {
   "cell_type": "code",
   "execution_count": 42,
   "metadata": {},
   "outputs": [
    {
     "data": {
      "text/html": [
       "<div>\n",
       "<style scoped>\n",
       "    .dataframe tbody tr th:only-of-type {\n",
       "        vertical-align: middle;\n",
       "    }\n",
       "\n",
       "    .dataframe tbody tr th {\n",
       "        vertical-align: top;\n",
       "    }\n",
       "\n",
       "    .dataframe thead th {\n",
       "        text-align: right;\n",
       "    }\n",
       "</style>\n",
       "<table border=\"1\" class=\"dataframe\">\n",
       "  <thead>\n",
       "    <tr style=\"text-align: right;\">\n",
       "      <th></th>\n",
       "      <th>Program</th>\n",
       "      <th>Year</th>\n",
       "      <th>Period</th>\n",
       "      <th>Week Ending</th>\n",
       "      <th>Geo Level</th>\n",
       "      <th>State</th>\n",
       "      <th>State ANSI</th>\n",
       "      <th>Ag District</th>\n",
       "      <th>Ag District Code</th>\n",
       "      <th>County</th>\n",
       "      <th>...</th>\n",
       "      <th>Zip Code</th>\n",
       "      <th>Region</th>\n",
       "      <th>watershed_code</th>\n",
       "      <th>Watershed</th>\n",
       "      <th>Commodity</th>\n",
       "      <th>Data Item</th>\n",
       "      <th>Domain</th>\n",
       "      <th>Domain Category</th>\n",
       "      <th>Value</th>\n",
       "      <th>CV (%)</th>\n",
       "    </tr>\n",
       "  </thead>\n",
       "  <tbody>\n",
       "    <tr>\n",
       "      <th>0</th>\n",
       "      <td>SURVEY</td>\n",
       "      <td>2019</td>\n",
       "      <td>YEAR</td>\n",
       "      <td>NaN</td>\n",
       "      <td>COUNTY</td>\n",
       "      <td>IDAHO</td>\n",
       "      <td>16</td>\n",
       "      <td>EAST</td>\n",
       "      <td>90</td>\n",
       "      <td>OTHER (COMBINED) COUNTIES</td>\n",
       "      <td>...</td>\n",
       "      <td>NaN</td>\n",
       "      <td>NaN</td>\n",
       "      <td>0</td>\n",
       "      <td>NaN</td>\n",
       "      <td>WHEAT</td>\n",
       "      <td>WHEAT, WINTER, NON-IRRIGATED - ACRES HARVESTED</td>\n",
       "      <td>TOTAL</td>\n",
       "      <td>NOT SPECIFIED</td>\n",
       "      <td>84,600</td>\n",
       "      <td>NaN</td>\n",
       "    </tr>\n",
       "    <tr>\n",
       "      <th>1</th>\n",
       "      <td>SURVEY</td>\n",
       "      <td>2019</td>\n",
       "      <td>YEAR</td>\n",
       "      <td>NaN</td>\n",
       "      <td>COUNTY</td>\n",
       "      <td>IDAHO</td>\n",
       "      <td>16</td>\n",
       "      <td>SOUTH CENTRAL</td>\n",
       "      <td>80</td>\n",
       "      <td>OTHER (COMBINED) COUNTIES</td>\n",
       "      <td>...</td>\n",
       "      <td>NaN</td>\n",
       "      <td>NaN</td>\n",
       "      <td>0</td>\n",
       "      <td>NaN</td>\n",
       "      <td>WHEAT</td>\n",
       "      <td>WHEAT, WINTER, NON-IRRIGATED - ACRES HARVESTED</td>\n",
       "      <td>TOTAL</td>\n",
       "      <td>NOT SPECIFIED</td>\n",
       "      <td>12,400</td>\n",
       "      <td>NaN</td>\n",
       "    </tr>\n",
       "    <tr>\n",
       "      <th>2</th>\n",
       "      <td>SURVEY</td>\n",
       "      <td>2019</td>\n",
       "      <td>YEAR</td>\n",
       "      <td>NaN</td>\n",
       "      <td>COUNTY</td>\n",
       "      <td>KANSAS</td>\n",
       "      <td>20</td>\n",
       "      <td>NORTH CENTRAL</td>\n",
       "      <td>40</td>\n",
       "      <td>OTHER (COMBINED) COUNTIES</td>\n",
       "      <td>...</td>\n",
       "      <td>NaN</td>\n",
       "      <td>NaN</td>\n",
       "      <td>0</td>\n",
       "      <td>NaN</td>\n",
       "      <td>WHEAT</td>\n",
       "      <td>WHEAT, WINTER, NON-IRRIGATED - ACRES HARVESTED</td>\n",
       "      <td>TOTAL</td>\n",
       "      <td>NOT SPECIFIED</td>\n",
       "      <td>691,000</td>\n",
       "      <td>NaN</td>\n",
       "    </tr>\n",
       "    <tr>\n",
       "      <th>3</th>\n",
       "      <td>SURVEY</td>\n",
       "      <td>2019</td>\n",
       "      <td>YEAR</td>\n",
       "      <td>NaN</td>\n",
       "      <td>COUNTY</td>\n",
       "      <td>KANSAS</td>\n",
       "      <td>20</td>\n",
       "      <td>SOUTH CENTRAL</td>\n",
       "      <td>60</td>\n",
       "      <td>HARVEY</td>\n",
       "      <td>...</td>\n",
       "      <td>NaN</td>\n",
       "      <td>NaN</td>\n",
       "      <td>0</td>\n",
       "      <td>NaN</td>\n",
       "      <td>WHEAT</td>\n",
       "      <td>WHEAT, WINTER, NON-IRRIGATED - ACRES HARVESTED</td>\n",
       "      <td>TOTAL</td>\n",
       "      <td>NOT SPECIFIED</td>\n",
       "      <td>58,800</td>\n",
       "      <td>NaN</td>\n",
       "    </tr>\n",
       "    <tr>\n",
       "      <th>4</th>\n",
       "      <td>SURVEY</td>\n",
       "      <td>2019</td>\n",
       "      <td>YEAR</td>\n",
       "      <td>NaN</td>\n",
       "      <td>COUNTY</td>\n",
       "      <td>KANSAS</td>\n",
       "      <td>20</td>\n",
       "      <td>SOUTH CENTRAL</td>\n",
       "      <td>60</td>\n",
       "      <td>KIOWA</td>\n",
       "      <td>...</td>\n",
       "      <td>NaN</td>\n",
       "      <td>NaN</td>\n",
       "      <td>0</td>\n",
       "      <td>NaN</td>\n",
       "      <td>WHEAT</td>\n",
       "      <td>WHEAT, WINTER, NON-IRRIGATED - ACRES HARVESTED</td>\n",
       "      <td>TOTAL</td>\n",
       "      <td>NOT SPECIFIED</td>\n",
       "      <td>51,900</td>\n",
       "      <td>NaN</td>\n",
       "    </tr>\n",
       "  </tbody>\n",
       "</table>\n",
       "<p>5 rows × 21 columns</p>\n",
       "</div>"
      ],
      "text/plain": [
       "  Program  Year Period  Week Ending Geo Level   State  State ANSI  \\\n",
       "0  SURVEY  2019   YEAR          NaN    COUNTY   IDAHO          16   \n",
       "1  SURVEY  2019   YEAR          NaN    COUNTY   IDAHO          16   \n",
       "2  SURVEY  2019   YEAR          NaN    COUNTY  KANSAS          20   \n",
       "3  SURVEY  2019   YEAR          NaN    COUNTY  KANSAS          20   \n",
       "4  SURVEY  2019   YEAR          NaN    COUNTY  KANSAS          20   \n",
       "\n",
       "     Ag District  Ag District Code                     County  ...  Zip Code  \\\n",
       "0           EAST                90  OTHER (COMBINED) COUNTIES  ...       NaN   \n",
       "1  SOUTH CENTRAL                80  OTHER (COMBINED) COUNTIES  ...       NaN   \n",
       "2  NORTH CENTRAL                40  OTHER (COMBINED) COUNTIES  ...       NaN   \n",
       "3  SOUTH CENTRAL                60                     HARVEY  ...       NaN   \n",
       "4  SOUTH CENTRAL                60                      KIOWA  ...       NaN   \n",
       "\n",
       "   Region  watershed_code  Watershed  Commodity  \\\n",
       "0     NaN               0        NaN      WHEAT   \n",
       "1     NaN               0        NaN      WHEAT   \n",
       "2     NaN               0        NaN      WHEAT   \n",
       "3     NaN               0        NaN      WHEAT   \n",
       "4     NaN               0        NaN      WHEAT   \n",
       "\n",
       "                                        Data Item Domain Domain Category  \\\n",
       "0  WHEAT, WINTER, NON-IRRIGATED - ACRES HARVESTED  TOTAL   NOT SPECIFIED   \n",
       "1  WHEAT, WINTER, NON-IRRIGATED - ACRES HARVESTED  TOTAL   NOT SPECIFIED   \n",
       "2  WHEAT, WINTER, NON-IRRIGATED - ACRES HARVESTED  TOTAL   NOT SPECIFIED   \n",
       "3  WHEAT, WINTER, NON-IRRIGATED - ACRES HARVESTED  TOTAL   NOT SPECIFIED   \n",
       "4  WHEAT, WINTER, NON-IRRIGATED - ACRES HARVESTED  TOTAL   NOT SPECIFIED   \n",
       "\n",
       "     Value CV (%)  \n",
       "0   84,600    NaN  \n",
       "1   12,400    NaN  \n",
       "2  691,000    NaN  \n",
       "3   58,800    NaN  \n",
       "4   51,900    NaN  \n",
       "\n",
       "[5 rows x 21 columns]"
      ]
     },
     "execution_count": 42,
     "metadata": {},
     "output_type": "execute_result"
    }
   ],
   "source": [
    "#not irrigated winter wheat\n",
    "wheat_no_irr_county = pd.read_csv('data/wheat_no_irr_county.csv')\n",
    "wheat_no_irr_county.head()"
   ]
  },
  {
   "cell_type": "code",
   "execution_count": 43,
   "metadata": {},
   "outputs": [],
   "source": [
    "wheat_no_irr_county = strip_clean(wheat_no_irr_county, True, 'data/wheat_no_irr_county.csv')"
   ]
  },
  {
   "cell_type": "code",
   "execution_count": 47,
   "metadata": {},
   "outputs": [
    {
     "data": {
      "text/plain": [
       "Year\n",
       "1973    1992500\n",
       "1974    2423500\n",
       "1975    2489400\n",
       "1976    2577900\n",
       "1977    2517300\n",
       "1978    2326900\n",
       "1979    2027440\n",
       "1980     474800\n",
       "1981    2519000\n",
       "1982    2255000\n",
       "1983    2225000\n",
       "1984    2085000\n",
       "1985    2110000\n",
       "1986    1865000\n",
       "1987    1670000\n",
       "1988    1608000\n",
       "1989    1160000\n",
       "1990    1940000\n",
       "1991     600000\n",
       "1992    1763000\n",
       "1993    2250000\n",
       "1994    2067000\n",
       "1995    1960000\n",
       "1996    2189000\n",
       "1997    1950000\n",
       "1998    1900000\n",
       "1999    1498000\n",
       "2000    1641000\n",
       "2001    1625000\n",
       "2002    1641000\n",
       "2003    1627200\n",
       "2004    1590000\n",
       "2005    1656500\n",
       "2006    1662500\n",
       "2007    1559850\n",
       "2008    1506000\n",
       "Name: Value, dtype: int64"
      ]
     },
     "execution_count": 47,
     "metadata": {},
     "output_type": "execute_result"
    }
   ],
   "source": [
    "group_year_plot(wheat_no_irr_county)"
   ]
  },
  {
   "cell_type": "code",
   "execution_count": 40,
   "metadata": {},
   "outputs": [
    {
     "data": {
      "text/html": [
       "<div>\n",
       "<style scoped>\n",
       "    .dataframe tbody tr th:only-of-type {\n",
       "        vertical-align: middle;\n",
       "    }\n",
       "\n",
       "    .dataframe tbody tr th {\n",
       "        vertical-align: top;\n",
       "    }\n",
       "\n",
       "    .dataframe thead th {\n",
       "        text-align: right;\n",
       "    }\n",
       "</style>\n",
       "<table border=\"1\" class=\"dataframe\">\n",
       "  <thead>\n",
       "    <tr style=\"text-align: right;\">\n",
       "      <th></th>\n",
       "      <th>Program</th>\n",
       "      <th>Year</th>\n",
       "      <th>Period</th>\n",
       "      <th>Week Ending</th>\n",
       "      <th>Geo Level</th>\n",
       "      <th>State</th>\n",
       "      <th>State ANSI</th>\n",
       "      <th>Ag District</th>\n",
       "      <th>Ag District Code</th>\n",
       "      <th>County</th>\n",
       "      <th>...</th>\n",
       "      <th>Zip Code</th>\n",
       "      <th>Region</th>\n",
       "      <th>watershed_code</th>\n",
       "      <th>Watershed</th>\n",
       "      <th>Commodity</th>\n",
       "      <th>Data Item</th>\n",
       "      <th>Domain</th>\n",
       "      <th>Domain Category</th>\n",
       "      <th>Value</th>\n",
       "      <th>CV (%)</th>\n",
       "    </tr>\n",
       "  </thead>\n",
       "  <tbody>\n",
       "    <tr>\n",
       "      <th>1068</th>\n",
       "      <td>SURVEY</td>\n",
       "      <td>2008</td>\n",
       "      <td>YEAR</td>\n",
       "      <td>0.0</td>\n",
       "      <td>COUNTY</td>\n",
       "      <td>WASHINGTON</td>\n",
       "      <td>53</td>\n",
       "      <td>CENTRAL</td>\n",
       "      <td>20</td>\n",
       "      <td>OTHER (COMBINED) COUNTIES</td>\n",
       "      <td>...</td>\n",
       "      <td>0.0</td>\n",
       "      <td>0.0</td>\n",
       "      <td>0</td>\n",
       "      <td>0.0</td>\n",
       "      <td>WHEAT</td>\n",
       "      <td>WHEAT, WINTER, NON-IRRIGATED - ACRES HARVESTED</td>\n",
       "      <td>TOTAL</td>\n",
       "      <td>NOT SPECIFIED</td>\n",
       "      <td>99000</td>\n",
       "      <td>0.0</td>\n",
       "    </tr>\n",
       "    <tr>\n",
       "      <th>1069</th>\n",
       "      <td>SURVEY</td>\n",
       "      <td>2008</td>\n",
       "      <td>YEAR</td>\n",
       "      <td>0.0</td>\n",
       "      <td>COUNTY</td>\n",
       "      <td>WASHINGTON</td>\n",
       "      <td>53</td>\n",
       "      <td>EAST CENTRAL</td>\n",
       "      <td>50</td>\n",
       "      <td>OTHER (COMBINED) COUNTIES</td>\n",
       "      <td>...</td>\n",
       "      <td>0.0</td>\n",
       "      <td>0.0</td>\n",
       "      <td>0</td>\n",
       "      <td>0.0</td>\n",
       "      <td>WHEAT</td>\n",
       "      <td>WHEAT, WINTER, NON-IRRIGATED - ACRES HARVESTED</td>\n",
       "      <td>TOTAL</td>\n",
       "      <td>NOT SPECIFIED</td>\n",
       "      <td>760000</td>\n",
       "      <td>0.0</td>\n",
       "    </tr>\n",
       "    <tr>\n",
       "      <th>1070</th>\n",
       "      <td>SURVEY</td>\n",
       "      <td>2008</td>\n",
       "      <td>YEAR</td>\n",
       "      <td>0.0</td>\n",
       "      <td>COUNTY</td>\n",
       "      <td>WASHINGTON</td>\n",
       "      <td>53</td>\n",
       "      <td>SOUTHEAST</td>\n",
       "      <td>90</td>\n",
       "      <td>OTHER (COMBINED) COUNTIES</td>\n",
       "      <td>...</td>\n",
       "      <td>0.0</td>\n",
       "      <td>0.0</td>\n",
       "      <td>0</td>\n",
       "      <td>0.0</td>\n",
       "      <td>WHEAT</td>\n",
       "      <td>WHEAT, WINTER, NON-IRRIGATED - ACRES HARVESTED</td>\n",
       "      <td>TOTAL</td>\n",
       "      <td>NOT SPECIFIED</td>\n",
       "      <td>647000</td>\n",
       "      <td>0.0</td>\n",
       "    </tr>\n",
       "    <tr>\n",
       "      <th>1507</th>\n",
       "      <td>SURVEY</td>\n",
       "      <td>2007</td>\n",
       "      <td>YEAR</td>\n",
       "      <td>0.0</td>\n",
       "      <td>COUNTY</td>\n",
       "      <td>WASHINGTON</td>\n",
       "      <td>53</td>\n",
       "      <td>CENTRAL</td>\n",
       "      <td>20</td>\n",
       "      <td>BENTON</td>\n",
       "      <td>...</td>\n",
       "      <td>0.0</td>\n",
       "      <td>0.0</td>\n",
       "      <td>0</td>\n",
       "      <td>0.0</td>\n",
       "      <td>WHEAT</td>\n",
       "      <td>WHEAT, WINTER, NON-IRRIGATED - ACRES HARVESTED</td>\n",
       "      <td>TOTAL</td>\n",
       "      <td>NOT SPECIFIED</td>\n",
       "      <td>64900</td>\n",
       "      <td>0.0</td>\n",
       "    </tr>\n",
       "    <tr>\n",
       "      <th>1508</th>\n",
       "      <td>SURVEY</td>\n",
       "      <td>2007</td>\n",
       "      <td>YEAR</td>\n",
       "      <td>0.0</td>\n",
       "      <td>COUNTY</td>\n",
       "      <td>WASHINGTON</td>\n",
       "      <td>53</td>\n",
       "      <td>CENTRAL</td>\n",
       "      <td>20</td>\n",
       "      <td>OTHER (COMBINED) COUNTIES</td>\n",
       "      <td>...</td>\n",
       "      <td>0.0</td>\n",
       "      <td>0.0</td>\n",
       "      <td>0</td>\n",
       "      <td>0.0</td>\n",
       "      <td>WHEAT</td>\n",
       "      <td>WHEAT, WINTER, NON-IRRIGATED - ACRES HARVESTED</td>\n",
       "      <td>TOTAL</td>\n",
       "      <td>NOT SPECIFIED</td>\n",
       "      <td>27300</td>\n",
       "      <td>0.0</td>\n",
       "    </tr>\n",
       "  </tbody>\n",
       "</table>\n",
       "<p>5 rows × 21 columns</p>\n",
       "</div>"
      ],
      "text/plain": [
       "     Program  Year Period  Week Ending Geo Level       State  State ANSI  \\\n",
       "1068  SURVEY  2008   YEAR          0.0    COUNTY  WASHINGTON          53   \n",
       "1069  SURVEY  2008   YEAR          0.0    COUNTY  WASHINGTON          53   \n",
       "1070  SURVEY  2008   YEAR          0.0    COUNTY  WASHINGTON          53   \n",
       "1507  SURVEY  2007   YEAR          0.0    COUNTY  WASHINGTON          53   \n",
       "1508  SURVEY  2007   YEAR          0.0    COUNTY  WASHINGTON          53   \n",
       "\n",
       "       Ag District  Ag District Code                     County  ...  \\\n",
       "1068       CENTRAL                20  OTHER (COMBINED) COUNTIES  ...   \n",
       "1069  EAST CENTRAL                50  OTHER (COMBINED) COUNTIES  ...   \n",
       "1070     SOUTHEAST                90  OTHER (COMBINED) COUNTIES  ...   \n",
       "1507       CENTRAL                20                     BENTON  ...   \n",
       "1508       CENTRAL                20  OTHER (COMBINED) COUNTIES  ...   \n",
       "\n",
       "      Zip Code  Region  watershed_code  Watershed  Commodity  \\\n",
       "1068       0.0     0.0               0        0.0      WHEAT   \n",
       "1069       0.0     0.0               0        0.0      WHEAT   \n",
       "1070       0.0     0.0               0        0.0      WHEAT   \n",
       "1507       0.0     0.0               0        0.0      WHEAT   \n",
       "1508       0.0     0.0               0        0.0      WHEAT   \n",
       "\n",
       "                                           Data Item Domain Domain Category  \\\n",
       "1068  WHEAT, WINTER, NON-IRRIGATED - ACRES HARVESTED  TOTAL   NOT SPECIFIED   \n",
       "1069  WHEAT, WINTER, NON-IRRIGATED - ACRES HARVESTED  TOTAL   NOT SPECIFIED   \n",
       "1070  WHEAT, WINTER, NON-IRRIGATED - ACRES HARVESTED  TOTAL   NOT SPECIFIED   \n",
       "1507  WHEAT, WINTER, NON-IRRIGATED - ACRES HARVESTED  TOTAL   NOT SPECIFIED   \n",
       "1508  WHEAT, WINTER, NON-IRRIGATED - ACRES HARVESTED  TOTAL   NOT SPECIFIED   \n",
       "\n",
       "       Value  CV (%)  \n",
       "1068   99000     0.0  \n",
       "1069  760000     0.0  \n",
       "1070  647000     0.0  \n",
       "1507   64900     0.0  \n",
       "1508   27300     0.0  \n",
       "\n",
       "[5 rows x 21 columns]"
      ]
     },
     "execution_count": 40,
     "metadata": {},
     "output_type": "execute_result"
    }
   ],
   "source": [
    "wheat_no_irr_county.head()"
   ]
  },
  {
   "cell_type": "code",
   "execution_count": null,
   "metadata": {},
   "outputs": [],
   "source": [
    "wheat_acres_harvest = pd.concat([dw.group_year_plot(wheat_no_irr_county).rename('no_irr'), dw.group_year_plot(wheat_irr_county).rename('irr')], axis=1)"
   ]
  },
  {
   "cell_type": "code",
   "execution_count": null,
   "metadata": {},
   "outputs": [],
   "source": [
    "wheat_acres_harvest.plot()"
   ]
  },
  {
   "cell_type": "code",
   "execution_count": 1,
   "metadata": {},
   "outputs": [],
   "source": [
    "#TODO do same for no_irr continuous and no_irr previous summer fallow and add to plot \n",
    "\n"
   ]
  },
  {
   "cell_type": "code",
   "execution_count": 32,
   "metadata": {},
   "outputs": [],
   "source": [
    "#no irr continuous\n",
    "\n",
    "wheat_no_irr_cont_county = pd.read_csv('data/wheat_no_irr_cont_county.csv')"
   ]
  },
  {
   "cell_type": "code",
   "execution_count": 33,
   "metadata": {},
   "outputs": [
    {
     "data": {
      "text/plain": [
       "0        1,066,800\n",
       "1           41,200\n",
       "2        1,013,000\n",
       "3           22,600\n",
       "4          170,700\n",
       "           ...    \n",
       "23439          320\n",
       "23440        3,170\n",
       "23441           30\n",
       "23442          150\n",
       "23443          830\n",
       "Name: Value, Length: 23444, dtype: object"
      ]
     },
     "execution_count": 33,
     "metadata": {},
     "output_type": "execute_result"
    }
   ],
   "source": [
    "wheat_no_irr_cont_county['Value']"
   ]
  },
  {
   "cell_type": "code",
   "execution_count": 34,
   "metadata": {},
   "outputs": [],
   "source": [
    "wheat_no_irr_cont_county = strip_clean(wheat_no_irr_cont_county, True, 'data/wheat_no_irr_cont_county.csv')"
   ]
  },
  {
   "cell_type": "code",
   "execution_count": 46,
   "metadata": {},
   "outputs": [
    {
     "data": {
      "text/plain": [
       "Year\n",
       "1973    141600\n",
       "1974    236200\n",
       "1975    338700\n",
       "1976    403300\n",
       "1977    297600\n",
       "1978    272300\n",
       "1979    374300\n",
       "1980     72700\n",
       "1981    351000\n",
       "1982    276700\n",
       "1983    284000\n",
       "1984    270000\n",
       "1985    270000\n",
       "1986    275000\n",
       "1987    208000\n",
       "1988    291000\n",
       "1989    230000\n",
       "1990    385000\n",
       "1991    124500\n",
       "1992    286000\n",
       "1993    410000\n",
       "1994    438000\n",
       "1995    360000\n",
       "Name: Value, dtype: int64"
      ]
     },
     "execution_count": 46,
     "metadata": {},
     "output_type": "execute_result"
    }
   ],
   "source": [
    "group_year_plot(wheat_no_irr_cont_county)"
   ]
  },
  {
   "cell_type": "code",
   "execution_count": null,
   "metadata": {},
   "outputs": [],
   "source": [
    "wa_county6 = pd.read_csv('data/wa_6county_drought_p_cat.csv')\n",
    "wa_county6['MapDate'] = pd.to_datetime(wa_county6['MapDate'], format='%Y%m%d')\n",
    "wa_county6.set_index('MapDate', inplace=True)\n",
    "wa_county6.info()"
   ]
  },
  {
   "cell_type": "code",
   "execution_count": null,
   "metadata": {},
   "outputs": [],
   "source": [
    "# saving index as a datetime???\n",
    "# wa_county6.to_csv('data/wa_6county_drought_p_cat.csv', date_format='%Y%m%d', index=False)"
   ]
  },
  {
   "cell_type": "code",
   "execution_count": null,
   "metadata": {},
   "outputs": [],
   "source": [
    "yakima_drought = wa_county6.loc[(wa_county6['County'] == 'Yakima County')]\n",
    "yakima_drought"
   ]
  },
  {
   "cell_type": "code",
   "execution_count": null,
   "metadata": {},
   "outputs": [],
   "source": []
  },
  {
   "cell_type": "code",
   "execution_count": null,
   "metadata": {},
   "outputs": [],
   "source": [
    "#yakima_drought.groupby(by=[b.index.month, b.index.year])[['None', 'D0', 'D1', 'D2', 'D3', 'D4']]\n",
    "\n",
    "# yakima average drought level per month 2000-2020\n",
    "yakima_drought.groupby(yakima_drought.index.month)[['None', 'D0', 'D1', 'D2', 'D3', 'D4']].mean()"
   ]
  },
  {
   "cell_type": "code",
   "execution_count": null,
   "metadata": {},
   "outputs": [],
   "source": [
    "# yakima drought level average by year\n",
    "yakima_year_drought_mean = yakima_drought.groupby(yakima_drought.index.year)[['D0', 'D1', 'D2', 'D3', 'D4']].mean()\n",
    "\n",
    "yakima_year_drought_mean.plot(figsize=(20,20))"
   ]
  },
  {
   "cell_type": "code",
   "execution_count": null,
   "metadata": {},
   "outputs": [],
   "source": [
    "yakima_drought['any_drought'] = yakima_drought[['D1','D2','D3','D4']].sum(axis=1)\n",
    "\n",
    "yakima_drought.head()"
   ]
  },
  {
   "cell_type": "code",
   "execution_count": null,
   "metadata": {},
   "outputs": [],
   "source": [
    "fig = (px.line(yakima_drought, x=yakima_drought.index, y='any_drought', \n",
    "               labels={'any_drought' :'Percent of Land in D1-D4'}, title='Percent of Yakima County with Drought (Any Severity)',\n",
    "              range_x=['2000-01-01','2020-01-01'])\n",
    "\n",
    "      )\n",
    "fig.show()"
   ]
  },
  {
   "cell_type": "code",
   "execution_count": null,
   "metadata": {},
   "outputs": [],
   "source": [
    "(100 - yakima_drought['None']).plot(figsize=(20,20), title='Percent of Yakima County with Any Drought or Dryness (D0-D4)')"
   ]
  },
  {
   "cell_type": "code",
   "execution_count": null,
   "metadata": {},
   "outputs": [],
   "source": [
    "whitman_drought = dw.county_drought(wa_county6, 'Whitman County')\n",
    "whitman_drought.head()"
   ]
  },
  {
   "cell_type": "code",
   "execution_count": null,
   "metadata": {},
   "outputs": [],
   "source": [
    "whitman_drought['any_drought'] = whitman_drought[['D1','D2','D3','D4']].sum(axis=1)"
   ]
  },
  {
   "cell_type": "code",
   "execution_count": null,
   "metadata": {},
   "outputs": [],
   "source": [
    "whitman_drought.head()"
   ]
  },
  {
   "cell_type": "code",
   "execution_count": null,
   "metadata": {},
   "outputs": [],
   "source": [
    "fig = (px.line(whitman_drought, x=whitman_drought.index, y='any_drought', \n",
    "               labels={'any_drought' :'Percent of Land in D1-D4'}, title='Percent of Whitman County with Drought (Any Severity)',\n",
    "              range_x=['2000-01-01','2020-01-01'])\n",
    "\n",
    "      )\n",
    "fig.show()"
   ]
  },
  {
   "cell_type": "code",
   "execution_count": null,
   "metadata": {},
   "outputs": [],
   "source": []
  }
 ],
 "metadata": {
  "kernelspec": {
   "display_name": "Python 3",
   "language": "python",
   "name": "python3"
  },
  "language_info": {
   "codemirror_mode": {
    "name": "ipython",
    "version": 3
   },
   "file_extension": ".py",
   "mimetype": "text/x-python",
   "name": "python",
   "nbconvert_exporter": "python",
   "pygments_lexer": "ipython3",
   "version": "3.7.6"
  }
 },
 "nbformat": 4,
 "nbformat_minor": 4
}
