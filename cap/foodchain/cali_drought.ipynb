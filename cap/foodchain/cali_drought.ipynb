{
 "cells": [
  {
   "cell_type": "markdown",
   "metadata": {},
   "source": [
    "![natural california vegetation](src/joshuatree.jpg 'joshua tree')\n",
    "\n",
    "\n",
    "\n",
    "# Topic: \n",
    "\n",
    "# Explore the impact the 2011-2017 drought had on California food supply, in volume and food prices.\n",
    "\n",
    "## Over all question to solve:\n",
    "\n",
    "- Did food production decrease during years of drought in California? \n",
    " - In the most agrarian counties? \n",
    " - Focusing on key crops from the county?\n",
    "- Did food prices of key foods increase?\n",
    "\n",
    "### Reach: \n",
    "\n",
    "- Were increases in price seen for these crops during or shortly after these periods of drought?\n",
    "\n",
    "## Context: \n",
    "\n",
    "- A large amount of food grown and eaten in the US comes from areas with low average rainfall. \n",
    "\n",
    "- The last decade saw some of the most severe droughts in recorded history. What impact did this have on agriculture?\n",
    "\n",
    "- How much food in the US is grown in California? In arid climates? What defines arid?\n",
    "\n",
    "## Preliminary questions:\n",
    "\n",
    "- What are the most 'important' crops in California by volume?\n",
    "\n",
    "- What are the most 'important' counties in California for amount of agrarian land and volume of produce?\n",
    "\n",
    "- How is a drought defined? How is its severity measured?\n",
    "\n",
    "### Reach:\n",
    "\n",
    "- What factors impact food availability beyond crop yields?\n",
    "\n",
    "- What factors impact price of these crops?\n",
    "\n",
    "### Far Reach questions:\n",
    "\n",
    "- What alternative water sources were used and how effective were they?\n",
    "\n",
    "- What counties did better during drought times, posibility due to different topography, different crops, etc\n",
    "\n",
    "## Required datasets:\n",
    "\n",
    "- droughts in california, by county, during target years\n",
    "\n",
    "- food production by county of target crops\n",
    "\n",
    "- prices of target crops!"
   ]
  },
  {
   "cell_type": "markdown",
   "metadata": {},
   "source": [
    "    Hypothesis (Null):\n",
    "    \n",
    "    - Drought years did not see a decrease in food production.\n",
    "    - Drought years did not see an increase in food prices.\n",
    "    \n"
   ]
  },
  {
   "cell_type": "code",
   "execution_count": null,
   "metadata": {},
   "outputs": [],
   "source": []
  }
 ],
 "metadata": {
  "kernelspec": {
   "display_name": "Python 3",
   "language": "python",
   "name": "python3"
  },
  "language_info": {
   "codemirror_mode": {
    "name": "ipython",
    "version": 3
   },
   "file_extension": ".py",
   "mimetype": "text/x-python",
   "name": "python",
   "nbconvert_exporter": "python",
   "pygments_lexer": "ipython3",
   "version": "3.7.6"
  }
 },
 "nbformat": 4,
 "nbformat_minor": 4
}
